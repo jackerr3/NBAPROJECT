{
 "cells": [
  {
   "cell_type": "markdown",
   "metadata": {},
   "source": [
    "# Basketball Overview\n",
    "\n",
    "In basketball, two teams of five compete by trying to score as many points as possible. Points are scored by shooting a basketball through a hoop at the end of each side of the court. A shot can be worth one, two or three points depending on how it was taken. Three points are awarded for shots outside the \"three-point line\", while shots inside that line are worth two. If a shooting foul is committed the fouled player takes free-throws which are worth one point each. Each of these shots are referred to as three-pointers, two-pointers and free-throws, respectively.\n",
    "\n",
    "There are many other statistics that can be tracked in basketball besides scoring. Below are some of that statistics that we tracked as part of our project.\n",
    "\n",
    "\n",
    "<b>Rebounds:</b> A rebound is attributed to a player that recovers the ball as it comes down from a missed shot. Good rebounders are valueable because they increase the amount of possessions a team gets in a game. <br>\n",
    "<b>Assists:</b> An assist is attributed to a player who passes the ball to a teammate in a way that leads to that teammate scoring. <br>\n",
    "<b>Blocks:</b> A block occurs when a defender deflects an opposing player's shot. <br>\n",
    "<b>Turnovers:</b> Turnovers happen when a player mishandles the ball in a way that allows the opposing team to gain possesion of it. <br>\n",
    "<b>Fouls:</b> Fouls in basketball occur for many different reasons. Most fouls are a defender making illegal contact with an opposing player. <br>\n",
    "\n",
    "Additionally, we had columns for statistics that were scaled per 100 minutes and per game.\n",
    "\n",
    "## Awards\n",
    "\n",
    "At the end of each season several awards are given out to the top players. Some of these are specific to rookies. We used some of these awards as predictors and some as target variables. All of these are subjective and voted on by a panel of sports media figures.\n",
    "\n",
    "<b>All-Rookie:</b> This award is given out to the top 10 rookies of each year. <br>\n",
    "<b>Rookie of the Year:</b> This award is given out to the best rookie of the year. <br>\n",
    "<b>All-NBA Team:</b> The top 15 players in the league get the distinction of being on the All-NBA team. <br>\n",
    "<b>All-Star Team:</b> Each year two all-star teams are selected from the 12 best players in each conference. (There are two conferences, East and West) <br>\n",
    "<b>MVP:</b> Each year the most valueable player is awarded to the best player in the league.\n",
    "\n"
   ]
  }
 ],
 "metadata": {
  "kernelspec": {
   "display_name": "Python 3",
   "language": "python",
   "name": "python3"
  },
  "language_info": {
   "codemirror_mode": {
    "name": "ipython",
    "version": 3
   },
   "file_extension": ".py",
   "mimetype": "text/x-python",
   "name": "python",
   "nbconvert_exporter": "python",
   "pygments_lexer": "ipython3",
   "version": "3.6.3"
  }
 },
 "nbformat": 4,
 "nbformat_minor": 2
}
