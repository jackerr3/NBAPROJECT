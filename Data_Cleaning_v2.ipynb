{
 "cells": [
  {
   "cell_type": "code",
   "execution_count": 1,
   "metadata": {
    "collapsed": true
   },
   "outputs": [],
   "source": [
    "import pandas as pd\n",
    "import scipy as sc\n",
    "import numpy as np\n",
    "import time\n",
    "import statsmodels.formula.api as sm\n",
    "\n",
    "import matplotlib.pyplot as plt \n",
    "plt.style.use('ggplot')\n",
    "%matplotlib inline  \n",
    "plt.rcParams['figure.figsize'] = (10, 6) \n",
    "from string import ascii_lowercase"
   ]
  },
  {
   "cell_type": "code",
   "execution_count": 21,
   "metadata": {
    "collapsed": true
   },
   "outputs": [],
   "source": [
    "#Read in all the csv's\n",
    "career_pergame = pd.read_csv('career_pergame.csv',index_col=0)\n",
    "\n",
    "career_advanced = pd.read_csv('career_advanced.csv',index_col=0)\n",
    "\n",
    "career_per100 = pd.read_csv('career_per100.csv',index_col=0)\n",
    "\n",
    "rookie_pergame = pd.read_csv('per_game.csv', index_col = 0)\n",
    "\n",
    "rookie_advanced = pd.read_csv('rookie_advanced.csv', index_col = 0)\n",
    "\n",
    "rookie_per100 = pd.read_csv('per_100.csv', index_col = 0)\n",
    "\n",
    "awards = pd.read_csv('career_awards.csv',index_col=0)\n",
    "\n",
    "draft_pick = pd.read_csv('draft_pick.csv',index_col=0)\n",
    "\n",
    "rookie_awards = awards[['Name','link','ROY','All-Rookie Team']]\n",
    "\n",
    "career_awards = awards[['Name','link','MVPs','All-Star Games','All-NBA Teams']]"
   ]
  },
  {
   "cell_type": "code",
   "execution_count": 22,
   "metadata": {
    "collapsed": true
   },
   "outputs": [],
   "source": [
    "rookie3 = rookie_pergame.merge(rookie_per100,on=['Name','link','Year','Age','Position','Games Played','Games Started'])\n",
    "rookie2 = rookie3.merge(rookie_advanced, on=['Name','link','Year','Age','Position','Games Played'])\n",
    "rookie1 = rookie2.merge(rookie_awards, on=['Name','link'])\n",
    "rookie = rookie1.merge(draft_pick,on=['Name','link'])"
   ]
  },
  {
   "cell_type": "code",
   "execution_count": 23,
   "metadata": {
    "collapsed": true
   },
   "outputs": [],
   "source": [
    "young_players = rookie[rookie['Year'].isin(['2017-18','2016-17','2015-16','2014-15'])]\n",
    "young_players = young_players[['Name','link']]"
   ]
  },
  {
   "cell_type": "code",
   "execution_count": 24,
   "metadata": {
    "collapsed": true
   },
   "outputs": [],
   "source": [
    "cols = [c for c in rookie.columns if c.lower()[:5] != 'blank']\n",
    "rookie = rookie[cols]"
   ]
  },
  {
   "cell_type": "code",
   "execution_count": 25,
   "metadata": {
    "collapsed": true
   },
   "outputs": [],
   "source": [
    "rookie = rookie.drop(['Team_x','League_x','Team_y','League_y','TotalMin_x','TotalMin_y','Games Started','Team','League'],axis=1)"
   ]
  },
  {
   "cell_type": "code",
   "execution_count": 26,
   "metadata": {
    "collapsed": true
   },
   "outputs": [],
   "source": [
<<<<<<< HEAD:Data_Cleaning_v2.ipynb
    "rookie = rookie.merge(young_players, on=['Name','link'], how='outer', indicator=True).query(\"_merge != 'both'\").drop('_merge', axis=1).reset_index(drop=True)"
=======
    "rookie3 = rookie_pergame.merge(rookie_per100,on=['Name','link','Year','Age','Position','Games Played','Games Started'])\n",
    "rookie2 = rookie3.merge(rookie_advanced, on=['Name','link','Year','Age','Position','Games Played'])\n",
    "rookie1 = rookie2.merge(rookie_awards, on=['Name','link'])\n",
    "rookie = rookie1.merge(draft_pick,on=['Name','link'])"
   ]
  },
  {
   "cell_type": "code",
   "execution_count": 13,
   "metadata": {
    "collapsed": true
   },
   "outputs": [],
   "source": [
    "young_players = rookie[rookie['Year'].isin(['2017-18','2016-17','2015-16','2014-15'])]\n",
    "young_players = young_players[['Name','link']]"
>>>>>>> 733b6eac88f49c93aff65d10936588a1e1dc717c:Data Cleaning v2.ipynb
   ]
  },
  {
   "cell_type": "code",
   "execution_count": 27,
   "metadata": {
    "collapsed": true
   },
   "outputs": [],
   "source": [
<<<<<<< HEAD:Data_Cleaning_v2.ipynb
=======
    "cols = [c for c in rookie.columns if c.lower()[:5] != 'blank']\n",
    "rookie = rookie[cols]"
   ]
  },
  {
   "cell_type": "code",
   "execution_count": 15,
   "metadata": {
    "collapsed": true
   },
   "outputs": [],
   "source": [
    "rookie = rookie.drop(['Team_x','League_x','Team_y','League_y','TotalMin_x','TotalMin_y','Games Started','Team','League'],axis=1)"
   ]
  },
  {
   "cell_type": "code",
   "execution_count": 16,
   "metadata": {
    "collapsed": true
   },
   "outputs": [],
   "source": [
    "rookie = rookie.merge(young_players, on=['Name','link'], how='outer', indicator=True).query(\"_merge != 'both'\").drop('_merge', axis=1).reset_index(drop=True)"
   ]
  },
  {
   "cell_type": "code",
   "execution_count": 17,
   "metadata": {
    "collapsed": true
   },
   "outputs": [],
   "source": [
>>>>>>> 733b6eac88f49c93aff65d10936588a1e1dc717c:Data Cleaning v2.ipynb
    "persons_of_interest = rookie[['Name','link']]"
   ]
  },
  {
   "cell_type": "code",
   "execution_count": 18,
   "metadata": {
    "collapsed": true
   },
   "outputs": [],
   "source": [
    "career3 = career_pergame.merge(persons_of_interest, on=['Name','link'])\n",
    "career2 = career3.merge(career_per100, on=['Name','link','Games Played'])\n",
    "career1 = career2.merge(career_advanced, on=['Name','link','Games Played'])\n",
    "career = career1.merge(career_awards, on=['Name','link'])"
   ]
  },
  {
   "cell_type": "code",
   "execution_count": 19,
   "metadata": {
    "collapsed": true
   },
   "outputs": [],
   "source": [
    "cols = [c for c in career.columns if c.lower()[:5] != 'blank']\n",
    "career = career[cols]\n",
    "career = career.drop(['Year_x','League_x','Games Started_x','Year_y','League_y','Games Started_y','TotalMin_x','TotalMin_y'],axis=1)"
   ]
  },
  {
   "cell_type": "code",
   "execution_count": 20,
   "metadata": {
    "collapsed": true
   },
   "outputs": [],
   "source": [
    "career.to_csv('career_v2.csv')\n",
    "rookie.to_csv('rookie_v2.csv')"
   ]
  }
 ],
 "metadata": {
  "kernelspec": {
   "display_name": "Python 3",
   "language": "python",
   "name": "python3"
  },
  "language_info": {
   "codemirror_mode": {
    "name": "ipython",
    "version": 3
   },
   "file_extension": ".py",
   "mimetype": "text/x-python",
   "name": "python",
   "nbconvert_exporter": "python",
   "pygments_lexer": "ipython3",
   "version": "3.6.3"
  }
 },
 "nbformat": 4,
 "nbformat_minor": 2
}
