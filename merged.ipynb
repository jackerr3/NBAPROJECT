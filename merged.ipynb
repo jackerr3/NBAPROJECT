{
 "cells": [
  {
   "cell_type": "code",
   "execution_count": 1,
   "metadata": {
    "collapsed": true
   },
   "outputs": [],
   "source": [
    "# imports and setup \n",
    "from bs4 import BeautifulSoup\n",
    "# you can use either of these libraries to get html from a website\n",
    "import requests\n",
    "import urllib.request\n",
    "from selenium import webdriver\n",
    "from selenium.webdriver.chrome.options import Options\n",
    "import re\n",
    "\n",
    "import pandas as pd\n",
    "import scipy as sc\n",
    "import numpy as np\n",
    "import time\n",
    "import statsmodels.formula.api as sm\n",
    "\n",
    "import matplotlib.pyplot as plt \n",
    "plt.style.use('ggplot')\n",
    "%matplotlib inline \n",
    "plt.rcParams['figure.figsize'] = (10, 6) \n",
    "from string import ascii_lowercase"
   ]
  },
  {
   "cell_type": "markdown",
   "metadata": {},
   "source": [
    "Below is a sample page that we are trying to pull our data from. At the top right is where we are getting their different accomplishments/accolades. We are also pulling their draft position from the top left. We are then grabbing the first row of 3 different tables (Per Game, Per 100, and Advanced) which gives us their rookie stats. We grab the career row of each of these tables as well.\n",
    "\n",
    "![LBJ](LBJ Page.png)"
   ]
  },
  {
   "cell_type": "code",
   "execution_count": 2,
   "metadata": {
    "collapsed": true,
    "scrolled": false
   },
   "outputs": [],
   "source": [
    "#Get all the pages for each letter\n",
    "url = \"https://www.basketball-reference.com/players\"\n",
    "all_letters = \"\"\n",
    "html = {}\n",
    "i = 0\n",
    "for x in ascii_lowercase:\n",
    "    if x == 'x':\n",
    "        pass\n",
    "    else:\n",
    "        link = url + '/' + str(x) + '/'\n",
    "        with urllib.request.urlopen(link) as response:\n",
    "            html[i] = response.read()\n",
    "            html[i] = html[i].decode('utf-8')\n",
    "        all_letters = all_letters + str(html[i])\n",
    "        i += 1"
   ]
  },
  {
   "cell_type": "code",
   "execution_count": 3,
   "metadata": {
    "collapsed": true
   },
   "outputs": [],
   "source": [
    "with open('all_letters.html','w') as new_file:\n",
    "    new_file.write(all_letters)"
   ]
  },
  {
   "cell_type": "code",
   "execution_count": 4,
   "metadata": {
    "collapsed": true
   },
   "outputs": [],
   "source": [
    "letters_soup = BeautifulSoup(open('all_letters.html',encoding = 'utf-8'), \"html.parser\")"
   ]
  },
  {
   "cell_type": "code",
   "execution_count": 5,
   "metadata": {
    "collapsed": true,
    "scrolled": true
   },
   "outputs": [],
   "source": [
    "#Get every players' link\n",
    "links = []\n",
    "url = \"https://www.basketball-reference.com\"\n",
    "for x in letters_soup.find_all(class_=\"left \"):\n",
    "    if x.get(\"data-stat\") == \"player\":\n",
    "        link_tail = x.find(\"a\").get(\"href\")\n",
    "        link = url + str(link_tail)\n",
    "        links.append(link)\n"
   ]
  },
  {
   "cell_type": "code",
   "execution_count": null,
   "metadata": {
    "collapsed": true
   },
   "outputs": [],
   "source": [
    "rookie = []\n",
    "columns_pergame_r = ['Name','link','Year','Age','Team','League','Position','Games Played','Games Started','MinPerGame','FGPerGame','FGAPerGame','FG%PerGame','3pPerGame','3PAPerGame','3p%PerGame','2pPerGame','2pAPerGame','2p%PerGame','eFG%PerGame','FTPerGame','FTAPerGame','FT%PerGame','ORGPerGame','DRBPerGame','TotalRebPerGame','AstPerGame','StealPerGame','BlkPerGame','TOVPerGame','FoulsPerGame','PtsPerGame']\n",
    "df_pergame = pd.DataFrame(columns = columns_pergame_r)\n",
    "columns_per100_r = ['Name','link','Year','Age','Team','League','Position','Games Played','Games Started','TotalMin','FGPer100Poss','FGAPer100Poss','FG%Per100Poss','3pPer100Poss','3PAPer100Poss','3p%Per100Poss','2pPer100Poss','2pAPer100Poss','2p%Per100Poss','FTPer100Poss','FTAPer100Poss','FT%Per100Poss','ORGPer100Poss','DRBPer100Poss','TotalRebPer100Poss','AstPer100Poss','StealPer100Poss','BlkPer100Poss','TOVPer100Poss','FoulsPer100Poss','PtsPer100Poss','blank','ORtg','DRtg']\n",
    "df_per100 = pd.DataFrame(columns = columns_per100_r)\n",
    "columns_advanced_r = ['Name','link','Year','Age','Team','League','Position','Games Played','TotalMin','PER','TS%','3PAr','FTr','ORB%','DRB%','TRB%','AST%','STL%','BLK%','TOV%','USG%','blank','OWS','DWS','WS','WS/48','blank','OBPM','DBPM','BPM','VORP']\n",
    "df_advanced = pd.DataFrame(columns = columns_advanced_r)\n",
    "\n",
    "career = []\n",
    "columns_pergame_c = ['Name','link','Year','blank','blank','League','blank','Games Played','Games Started','MinPerGame','FGPerGame','FGAPerGame','FG%PerGame','3pPerGame','3PAPerGame','3p%PerGame','2pPerGame','2pAPerGame','2p%PerGame','eFG%PerGame','FTPerGame','FTAPerGame','FT%PerGame','ORGPerGame','DRBPerGame','TotalRebPerGame','AstPerGame','StealPerGame','BlkPerGame','TOVPerGame','FoulsPerGame','PtsPerGame']\n",
    "career_pergame = pd.DataFrame(columns = columns_pergame_c)\n",
    "columns_per100_c = ['Name','link','Year','blank','blank','League','blank','Games Played','Games Started','TotalMin','FGPer100Poss','FGAPer100Poss','FG%Per100Poss','3pPer100Poss','3PAPer100Poss','3p%Per100Poss','2pPer100Poss','2pAPer100Poss','2p%Per100Poss','FTPer100Poss','FTAPer100Poss','FT%Per100Poss','ORGPer100Poss','DRBPer100Poss','TotalRebPer100Poss','AstPer100Poss','StealPer100Poss','BlkPer100Poss','TOVPer100Poss','FoulsPer100Poss','PtsPer100Poss','blank','ORtg','DRtg']\n",
    "career_per100 = pd.DataFrame(columns = columns_per100_c)\n",
    "columns_advanced_c = ['Name','link','Year','blank','blank','League','blank','Games Played','TotalMin','PER','TS%','3PAr','FTr','ORB%','DRB%','TRB%','AST%','STL%','BLK%','TOV%','USG%','blank','OWS','DWS','WS','WS/48','blank','OBPM','DBPM','BPM','VORP']\n",
    "career_advanced = pd.DataFrame(columns = columns_advanced_c)\n",
    "\n",
    "def get_num(x):\n",
    "    return int(''.join(ele for ele in x if ele.isdigit()))\n",
    "\n",
    "awards = []\n",
    "columns_a = ['Name','link','MVPs','All-Star Games','All-NBA Teams','All-Rookie Team','ROY']\n",
    "career_awards = pd.DataFrame(columns = columns_a)\n",
    "zeros = [0,0,0,0,0,0,0]\n",
    "\n",
    "columns_dp = ['Name','link','Draft_Pick']\n",
    "draft_pick = pd.DataFrame(columns = columns_dp)\n",
    "zeros1 = [0,0,0]\n"
   ]
  },
  {
   "cell_type": "code",
   "execution_count": 1,
   "metadata": {
    "scrolled": true
   },
   "outputs": [],
   "source": [
    "# Get everything\n",
    "\n",
    "j=1\n",
    "chrome_options = Options()\n",
    "chrome_options.add_argument(\"--headless\")\n",
    "driver = webdriver.Chrome(chrome_options=chrome_options)\n",
    "start_time = time.time()\n",
    "for i in range(3646, len(links)):\n",
    "    j+=1\n",
    "    iter_time = time.time()\n",
    "    url = links[i]\n",
    "    driver.get(url)\n",
    "    players_soup = BeautifulSoup(driver.page_source,'html.parser')\n",
    "    for x in players_soup.find_all(id=\"per_game\"):\n",
    "        for q in players_soup.find(\"h1\"):\n",
    "            rookie.append(q)\n",
    "            career.append(q)\n",
    "        rookie.append(url[47:-5])\n",
    "        career.append(url[47:-5])\n",
    "        for y in x.find_all(\"tr\")[1]:\n",
    "            rookie.append(y.get_text())\n",
    "        if len(rookie) == 32:\n",
    "            df_pergame.loc[i] = rookie  ##Get rookie_pergame\n",
    "        rookie = []\n",
    "        for r in x.find_all(\"tfoot\"):\n",
    "            for s in r.find_all(\"tr\")[0]:\n",
    "                career.append(s.get_text())\n",
    "        if len(career) == 32:\n",
    "            career_pergame.loc[i] = career #Get career_pergame\n",
    "        career = []\n",
    "        \n",
    "    for x in players_soup.find_all(id=\"per_poss\"):\n",
    "        for q in players_soup.find(\"h1\"):\n",
    "            rookie.append(q)\n",
    "            career.append(q)\n",
    "        rookie.append(url[47:-5])\n",
    "        career.append(url[47:-5])\n",
    "        for y in x.find_all(\"tr\")[1]:\n",
    "            rookie.append(y.get_text())\n",
    "        if len(rookie) == 34:\n",
    "            df_per100.loc[i] = rookie #Get rookie_per100\n",
    "        rookie = []  \n",
    "        \n",
    "        for z in x.find_all(\"tfoot\"):\n",
    "            for y in z.find_all(\"tr\")[0]:\n",
    "                career.append(y.get_text())\n",
    "        if len(career) == 34:\n",
    "            career_per100.loc[i] = career #Get career_per100\n",
    "        career = []\n",
    "        \n",
    "    for x in players_soup.find_all(id=\"advanced\"):\n",
    "        for q in players_soup.find(\"h1\"):\n",
    "            rookie.append(q)\n",
    "            career.append(q)\n",
    "        rookie.append(url[47:-5])\n",
    "        career.append(url[47:-5])\n",
    "        for y in x.find_all(\"tr\")[1]:\n",
    "            rookie.append(y.get_text())\n",
    "        if len(rookie) == 31:\n",
    "            df_advanced.loc[i] = rookie #Get rookie_advanced\n",
    "        rookie = []\n",
    "        \n",
    "        for z in x.find_all(\"tfoot\"):\n",
    "            for y in z.find_all(\"tr\")[0]:\n",
    "                career.append(y.get_text())\n",
    "        if len(career) == 31:\n",
    "            career_advanced.loc[i] = career #Get career_advanced\n",
    "        career = []\n",
    "        \n",
    "    for x in players_soup.find_all(id=\"info\"): #Get awards\n",
    "        if x.find_all(id=\"bling\") != []:\n",
    "            career_awards.loc[i] = zeros\n",
    "            career_awards['link'].loc[i] = url[47:-5]\n",
    "            for y in x.find_all(\"li\"):\n",
    "                for q in players_soup.find(\"h1\"):\n",
    "                    career_awards['Name'].loc[i] = q\n",
    "                career_awards['link'].loc[i] = url[47:-5]\n",
    "                result = y.get_text()\n",
    "                if \"x MVP\" in result:\n",
    "                    career_awards['MVPs'].loc[i] = get_num(result)\n",
    "                if re.findall(r'\\d\\sMVP',result) != []:\n",
    "                    career_awards['MVPs'].loc[i] = 1\n",
    "                if \"All Star\" in result:\n",
    "                    career_awards['All-Star Games'].loc[i] = get_num(result)\n",
    "                if \"All-NBA\" in result:\n",
    "                    if get_num(result) > 30: #For when it says 2018 All-NBA, this means they only won once. We don't want it saying they won 2018 times\n",
    "                        career_awards['All-NBA Teams'].loc[i] = 1\n",
    "                    else:\n",
    "                        career_awards['All-NBA Teams'].loc[i] = get_num(result)\n",
    "                if \"All-Rookie\" in result:\n",
    "                    career_awards['All-Rookie Team'].loc[i] = 1\n",
    "                if \"ROY\" in result:\n",
    "                    career_awards['ROY'].loc[i] = 1\n",
    "                result = \"\"\n",
    "        else:\n",
    "            career_awards.loc[i] = zeros\n",
    "            career_awards['link'].loc[i] = url[47:-5]\n",
    "            for q in players_soup.find(\"h1\"):\n",
    "                career_awards['Name'].loc[i] = q\n",
    "            \n",
    "    for x in players_soup.find_all(id=\"meta\"): #Get their draft position\n",
    "        draft_pick.loc[i] = zeros1\n",
    "        result = x.get_text()\n",
    "        for q in players_soup.find(\"h1\"):\n",
    "            draft_pick['Name'].loc[i] = q\n",
    "        draft_pick['link'].loc[i] = url[47:-5]\n",
    "        if re.findall(r'\\d{1,3}\\w\\w\\soverall',result) != []:\n",
    "            pick = re.findall(r'\\d{1,3}\\w\\w\\soverall',result)[0]\n",
    "            draft_pick['Draft_Pick'].loc[i] = re.findall(r'\\d{1,3}',pick)[0]\n",
    "        else: \n",
    "            draft_pick['Draft_Pick'].loc[i] = np.nan\n",
    "driver.close()"
   ]
  },
  {
   "cell_type": "code",
   "execution_count": 41,
   "metadata": {
    "collapsed": true
   },
   "outputs": [],
   "source": [
    "df_pergame.to_csv(\"per_game.csv\")"
   ]
  },
  {
   "cell_type": "code",
   "execution_count": 42,
   "metadata": {
    "collapsed": true
   },
   "outputs": [],
   "source": [
    "df_advanced.to_csv('rookie_advanced.csv')"
   ]
  },
  {
   "cell_type": "code",
   "execution_count": 43,
   "metadata": {
    "collapsed": true
   },
   "outputs": [],
   "source": [
    "df_per100.to_csv('per_100.csv')"
   ]
  },
  {
   "cell_type": "code",
   "execution_count": 44,
   "metadata": {
    "collapsed": true
   },
   "outputs": [],
   "source": [
    "career_pergame.to_csv('career_pergame.csv')"
   ]
  },
  {
   "cell_type": "code",
   "execution_count": 45,
   "metadata": {
    "collapsed": true
   },
   "outputs": [],
   "source": [
    "career_per100.to_csv('career_per100.csv')"
   ]
  },
  {
   "cell_type": "code",
   "execution_count": 46,
   "metadata": {
    "collapsed": true
   },
   "outputs": [],
   "source": [
    "career_advanced.to_csv('career_advanced.csv')"
   ]
  },
  {
   "cell_type": "code",
   "execution_count": 47,
   "metadata": {
    "collapsed": true
   },
   "outputs": [],
   "source": [
    "career_awards.to_csv('career_awards.csv')"
   ]
  },
  {
   "cell_type": "code",
   "execution_count": 48,
   "metadata": {
    "collapsed": true
   },
   "outputs": [],
   "source": [
    "draft_pick.to_csv('draft_pick.csv')"
   ]
  },
  {
   "cell_type": "code",
   "execution_count": 21,
   "metadata": {
    "collapsed": true
   },
   "outputs": [],
   "source": [
    "#Read in all the csv's\n",
    "career_pergame = pd.read_csv('career_pergame.csv',index_col=0)\n",
    "\n",
    "career_advanced = pd.read_csv('career_advanced.csv',index_col=0)\n",
    "\n",
    "career_per100 = pd.read_csv('career_per100.csv',index_col=0)\n",
    "\n",
    "rookie_pergame = pd.read_csv('per_game.csv', index_col = 0)\n",
    "\n",
    "rookie_advanced = pd.read_csv('rookie_advanced.csv', index_col = 0)\n",
    "\n",
    "rookie_per100 = pd.read_csv('per_100.csv', index_col = 0)\n",
    "\n",
    "awards = pd.read_csv('career_awards.csv',index_col=0)\n",
    "\n",
    "draft_pick = pd.read_csv('draft_pick.csv',index_col=0)\n",
    "\n",
    "rookie_awards = awards[['Name','link','ROY','All-Rookie Team']]\n",
    "\n",
    "career_awards = awards[['Name','link','MVPs','All-Star Games','All-NBA Teams']]"
   ]
  },
  {
   "cell_type": "code",
   "execution_count": 22,
   "metadata": {
    "collapsed": true
   },
   "outputs": [],
   "source": [
    "rookie3 = rookie_pergame.merge(rookie_per100,on=['Name','link','Year','Age','Position','Games Played','Games Started'])\n",
    "rookie2 = rookie3.merge(rookie_advanced, on=['Name','link','Year','Age','Position','Games Played'])\n",
    "rookie1 = rookie2.merge(rookie_awards, on=['Name','link'])\n",
    "rookie = rookie1.merge(draft_pick,on=['Name','link'])"
   ]
  },
  {
   "cell_type": "code",
   "execution_count": 23,
   "metadata": {
    "collapsed": true
   },
   "outputs": [],
   "source": [
    "young_players = rookie[rookie['Year'].isin(['2017-18','2016-17','2015-16','2014-15'])]\n",
    "young_players = young_players[['Name','link']]"
   ]
  },
  {
   "cell_type": "code",
   "execution_count": 24,
   "metadata": {
    "collapsed": true
   },
   "outputs": [],
   "source": [
    "cols = [c for c in rookie.columns if c.lower()[:5] != 'blank']\n",
    "rookie = rookie[cols]"
   ]
  },
  {
   "cell_type": "code",
   "execution_count": 25,
   "metadata": {
    "collapsed": true
   },
   "outputs": [],
   "source": [
    "rookie = rookie.drop(['Team_x','League_x','Team_y','League_y','TotalMin_x','TotalMin_y','Games Started','Team','League'],axis=1)"
   ]
  },
  {
   "cell_type": "code",
   "execution_count": 26,
   "metadata": {
    "collapsed": true
   },
   "outputs": [],
   "source": [
    "rookie = rookie.merge(young_players, on=['Name','link'], how='outer', indicator=True).query(\"_merge != 'both'\").drop('_merge', axis=1).reset_index(drop=True)"
   ]
  },
  {
   "cell_type": "code",
   "execution_count": 27,
   "metadata": {
    "collapsed": true
   },
   "outputs": [],
   "source": [
    "persons_of_interest = rookie[['Name','link']]"
   ]
  },
  {
   "cell_type": "code",
   "execution_count": 18,
   "metadata": {
    "collapsed": true
   },
   "outputs": [],
   "source": [
    "career3 = career_pergame.merge(persons_of_interest, on=['Name','link'])\n",
    "career2 = career3.merge(career_per100, on=['Name','link','Games Played'])\n",
    "career1 = career2.merge(career_advanced, on=['Name','link','Games Played'])\n",
    "career = career1.merge(career_awards, on=['Name','link'])"
   ]
  },
  {
   "cell_type": "code",
   "execution_count": 19,
   "metadata": {
    "collapsed": true
   },
   "outputs": [],
   "source": [
    "cols = [c for c in career.columns if c.lower()[:5] != 'blank']\n",
    "career = career[cols]\n",
    "career = career.drop(['Year_x','League_x','Games Started_x','Year_y','League_y','Games Started_y','TotalMin_x','TotalMin_y'],axis=1)"
   ]
  },
  {
   "cell_type": "code",
   "execution_count": 20,
   "metadata": {
    "collapsed": true
   },
   "outputs": [],
   "source": [
    "career.to_csv('career_v2.csv')\n",
    "rookie.to_csv('rookie_v2.csv')"
   ]
  },
  {
   "cell_type": "code",
   "execution_count": null,
   "metadata": {
    "collapsed": true
   },
   "outputs": [],
   "source": []
  }
 ],
 "metadata": {
  "kernelspec": {
   "display_name": "Python 3",
   "language": "python",
   "name": "python3"
  },
  "language_info": {
   "codemirror_mode": {
    "name": "ipython",
    "version": 3
   },
   "file_extension": ".py",
   "mimetype": "text/x-python",
   "name": "python",
   "nbconvert_exporter": "python",
   "pygments_lexer": "ipython3",
   "version": "3.6.3"
  }
 },
 "nbformat": 4,
 "nbformat_minor": 2
}
