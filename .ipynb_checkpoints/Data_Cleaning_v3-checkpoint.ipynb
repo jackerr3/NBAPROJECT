{
 "cells": [
  {
   "cell_type": "code",
   "execution_count": 2,
   "metadata": {
    "collapsed": true
   },
   "outputs": [],
   "source": [
    "import pandas as pd\n",
    "import scipy as sc\n",
    "import numpy as np\n",
    "import time\n",
    "import statsmodels.formula.api as sm\n",
    "\n",
    "import matplotlib.pyplot as plt \n",
    "plt.style.use('ggplot')\n",
    "%matplotlib inline  \n",
    "plt.rcParams['figure.figsize'] = (10, 6) \n",
    "from string import ascii_lowercase"
   ]
  },
  {
   "cell_type": "code",
   "execution_count": 3,
   "metadata": {
    "collapsed": true
   },
   "outputs": [],
   "source": [
    "career_pergame = pd.read_csv('career_pergame.csv',index_col=0)"
   ]
  },
  {
   "cell_type": "code",
   "execution_count": 4,
   "metadata": {
    "collapsed": true
   },
   "outputs": [],
   "source": [
    "career_advanced = pd.read_csv('career_advanced.csv',index_col=0)"
   ]
  },
  {
   "cell_type": "code",
   "execution_count": 5,
   "metadata": {
    "collapsed": true
   },
   "outputs": [],
   "source": [
    "career_per100 = pd.read_csv('career_per100.csv',index_col=0)"
   ]
  },
  {
   "cell_type": "code",
   "execution_count": 6,
   "metadata": {
    "collapsed": true
   },
   "outputs": [],
   "source": [
    "#rookie datasets\n",
    "rookie_pergame = pd.read_csv('per_game.csv', index_col = 0)"
   ]
  },
  {
   "cell_type": "code",
   "execution_count": 7,
   "metadata": {
    "collapsed": true
   },
   "outputs": [],
   "source": [
    "rookie_advanced = pd.read_csv('rookie_advanced.csv', index_col = 0)"
   ]
  },
  {
   "cell_type": "code",
   "execution_count": 8,
   "metadata": {
    "collapsed": true
   },
   "outputs": [],
   "source": [
    "rookie_per100 = pd.read_csv('per_100.csv', index_col = 0)"
   ]
  },
  {
   "cell_type": "code",
   "execution_count": 9,
   "metadata": {
    "collapsed": true
   },
   "outputs": [],
   "source": [
    "awards = pd.read_csv('career_awards.csv',index_col=0)"
   ]
  },
  {
   "cell_type": "code",
   "execution_count": 10,
   "metadata": {
    "collapsed": true
   },
   "outputs": [],
   "source": [
    "draft_pick = pd.read_csv('draft_pick.csv',index_col=0)"
   ]
  },
  {
   "cell_type": "code",
   "execution_count": 11,
   "metadata": {
    "collapsed": true
   },
   "outputs": [],
   "source": [
    "rookie_awards = awards[['Name','link','ROY','All-Rookie Team']]"
   ]
  },
  {
   "cell_type": "code",
   "execution_count": 12,
   "metadata": {
    "collapsed": true
   },
   "outputs": [],
   "source": [
    "career_awards = awards[['Name','link','MVPs','All-Star Games','All-NBA Teams']]"
   ]
  },
  {
   "cell_type": "code",
   "execution_count": 13,
   "metadata": {
    "collapsed": true
   },
   "outputs": [],
   "source": [
    "rookie3 = rookie_pergame.merge(rookie_per100,on=['Name','link','Year','Age','Position','Games Played','Games Started'])\n",
    "rookie2 = rookie3.merge(rookie_advanced, on=['Name','link','Year','Age','Position','Games Played'])\n",
    "rookie1 = rookie2.merge(rookie_awards, on=['Name','link'])\n",
    "rookie = rookie1.merge(draft_pick,on=['Name','link'])"
   ]
  },
  {
   "cell_type": "code",
   "execution_count": 14,
   "metadata": {
    "collapsed": true
   },
   "outputs": [],
   "source": [
    "young_players = rookie[rookie['Year'].isin(['2017-18','2016-17','2015-16','2014-15'])]\n",
    "young_players = young_players[['Name','link']]"
   ]
  },
  {
   "cell_type": "code",
   "execution_count": 15,
   "metadata": {
    "collapsed": true
   },
   "outputs": [],
   "source": [
    "cols = [c for c in rookie.columns if c.lower()[:5] != 'blank']\n",
    "rookie = rookie[cols]"
   ]
  },
  {
   "cell_type": "code",
   "execution_count": 16,
   "metadata": {
    "collapsed": true
   },
   "outputs": [],
   "source": [
    "rookie = rookie.drop(['Team_x','League_x','Team_y','League_y','TotalMin_x','TotalMin_y','Games Started','Team','League'],axis=1)"
   ]
  },
  {
   "cell_type": "code",
   "execution_count": 17,
   "metadata": {
    "collapsed": true
   },
   "outputs": [],
   "source": [
    "rookie = rookie.merge(young_players, on=['Name','link'], how='outer', indicator=True).query(\"_merge != 'both'\").drop('_merge', axis=1).reset_index(drop=True)"
   ]
  },
  {
   "cell_type": "code",
   "execution_count": 18,
   "metadata": {
    "collapsed": true
   },
   "outputs": [],
   "source": [
    "persons_of_interest = rookie[['Name','link']]"
   ]
  },
  {
   "cell_type": "code",
   "execution_count": 19,
   "metadata": {
    "collapsed": true
   },
   "outputs": [],
   "source": [
    "career3 = career_pergame.merge(persons_of_interest, on=['Name','link'])\n",
    "career2 = career3.merge(career_per100, on=['Name','link','Games Played'])\n",
    "career1 = career2.merge(career_advanced, on=['Name','link','Games Played'])\n",
    "career = career1.merge(career_awards, on=['Name','link'])"
   ]
  },
  {
   "cell_type": "code",
   "execution_count": 20,
   "metadata": {
    "collapsed": true
   },
   "outputs": [],
   "source": [
    "cols = [c for c in career.columns if c.lower()[:5] != 'blank']\n",
    "career = career[cols]\n",
    "career = career.drop(['Year_x','League_x','Games Started_x','Year_y','League_y','Games Started_y','TotalMin_x','TotalMin_y'],axis=1)"
   ]
  },
  {
   "cell_type": "code",
   "execution_count": 20,
   "metadata": {
    "collapsed": true
   },
   "outputs": [],
   "source": [
    "career.to_csv('career_v2.csv')\n",
    "rookie.to_csv('rookie_v2.csv')"
   ]
  },
  {
   "cell_type": "code",
   "execution_count": 23,
   "metadata": {},
   "outputs": [
    {
     "data": {
      "text/html": [
       "<div>\n",
       "<style>\n",
       "    .dataframe thead tr:only-child th {\n",
       "        text-align: right;\n",
       "    }\n",
       "\n",
       "    .dataframe thead th {\n",
       "        text-align: left;\n",
       "    }\n",
       "\n",
       "    .dataframe tbody tr th {\n",
       "        vertical-align: top;\n",
       "    }\n",
       "</style>\n",
       "<table border=\"1\" class=\"dataframe\">\n",
       "  <thead>\n",
       "    <tr style=\"text-align: right;\">\n",
       "      <th></th>\n",
       "      <th>Name</th>\n",
       "      <th>link</th>\n",
       "      <th>Games Played</th>\n",
       "      <th>MinPerGame</th>\n",
       "      <th>FGPerGame</th>\n",
       "      <th>FGAPerGame</th>\n",
       "      <th>...</th>\n",
       "      <th>DBPM</th>\n",
       "      <th>BPM</th>\n",
       "      <th>VORP</th>\n",
       "      <th>MVPs</th>\n",
       "      <th>All-Star Games</th>\n",
       "      <th>All-NBA Teams</th>\n",
       "    </tr>\n",
       "  </thead>\n",
       "  <tbody>\n",
       "    <tr>\n",
       "      <th>0</th>\n",
       "      <td>Alaa Abdelnaby</td>\n",
       "      <td>abdelal01</td>\n",
       "      <td>256</td>\n",
       "      <td>12.5</td>\n",
       "      <td>2.4</td>\n",
       "      <td>4.8</td>\n",
       "      <td>...</td>\n",
       "      <td>-1.5</td>\n",
       "      <td>-4.8</td>\n",
       "      <td>-2.3</td>\n",
       "      <td>0</td>\n",
       "      <td>0</td>\n",
       "      <td>0</td>\n",
       "    </tr>\n",
       "    <tr>\n",
       "      <th>1</th>\n",
       "      <td>Mahmoud Abdul-Rauf</td>\n",
       "      <td>abdulma02</td>\n",
       "      <td>586</td>\n",
       "      <td>26.7</td>\n",
       "      <td>6.0</td>\n",
       "      <td>13.6</td>\n",
       "      <td>...</td>\n",
       "      <td>-3.0</td>\n",
       "      <td>-2.2</td>\n",
       "      <td>-0.7</td>\n",
       "      <td>0</td>\n",
       "      <td>0</td>\n",
       "      <td>0</td>\n",
       "    </tr>\n",
       "    <tr>\n",
       "      <th>2</th>\n",
       "      <td>Tariq Abdul-Wahad</td>\n",
       "      <td>abdulta01</td>\n",
       "      <td>236</td>\n",
       "      <td>20.4</td>\n",
       "      <td>3.1</td>\n",
       "      <td>7.3</td>\n",
       "      <td>...</td>\n",
       "      <td>-0.3</td>\n",
       "      <td>-3.2</td>\n",
       "      <td>-1.5</td>\n",
       "      <td>0</td>\n",
       "      <td>0</td>\n",
       "      <td>0</td>\n",
       "    </tr>\n",
       "    <tr>\n",
       "      <th>3</th>\n",
       "      <td>Shareef Abdur-Rahim</td>\n",
       "      <td>abdursh01</td>\n",
       "      <td>830</td>\n",
       "      <td>34.8</td>\n",
       "      <td>6.5</td>\n",
       "      <td>13.9</td>\n",
       "      <td>...</td>\n",
       "      <td>-0.2</td>\n",
       "      <td>0.9</td>\n",
       "      <td>21.1</td>\n",
       "      <td>0</td>\n",
       "      <td>1</td>\n",
       "      <td>0</td>\n",
       "    </tr>\n",
       "    <tr>\n",
       "      <th>4</th>\n",
       "      <td>Tom Abernethy</td>\n",
       "      <td>abernto01</td>\n",
       "      <td>319</td>\n",
       "      <td>17.0</td>\n",
       "      <td>2.3</td>\n",
       "      <td>4.6</td>\n",
       "      <td>...</td>\n",
       "      <td>0.2</td>\n",
       "      <td>-0.2</td>\n",
       "      <td>2.5</td>\n",
       "      <td>0</td>\n",
       "      <td>0</td>\n",
       "      <td>0</td>\n",
       "    </tr>\n",
       "  </tbody>\n",
       "</table>\n",
       "<p>5 rows × 74 columns</p>\n",
       "</div>"
      ],
      "text/plain": [
       "                  Name       link  Games Played  MinPerGame  FGPerGame  \\\n",
       "0       Alaa Abdelnaby  abdelal01           256        12.5        2.4   \n",
       "1   Mahmoud Abdul-Rauf  abdulma02           586        26.7        6.0   \n",
       "2    Tariq Abdul-Wahad  abdulta01           236        20.4        3.1   \n",
       "3  Shareef Abdur-Rahim  abdursh01           830        34.8        6.5   \n",
       "4        Tom Abernethy  abernto01           319        17.0        2.3   \n",
       "\n",
       "   FGAPerGame      ...        DBPM  BPM  VORP  MVPs  All-Star Games  \\\n",
       "0         4.8      ...        -1.5 -4.8  -2.3     0               0   \n",
       "1        13.6      ...        -3.0 -2.2  -0.7     0               0   \n",
       "2         7.3      ...        -0.3 -3.2  -1.5     0               0   \n",
       "3        13.9      ...        -0.2  0.9  21.1     0               1   \n",
       "4         4.6      ...         0.2 -0.2   2.5     0               0   \n",
       "\n",
       "   All-NBA Teams  \n",
       "0              0  \n",
       "1              0  \n",
       "2              0  \n",
       "3              0  \n",
       "4              0  \n",
       "\n",
       "[5 rows x 74 columns]"
      ]
     },
     "execution_count": 23,
     "metadata": {},
     "output_type": "execute_result"
    }
   ],
   "source": [
    "pd.options.display.max_columns = 12\n",
    "career.head()"
   ]
  },
  {
   "cell_type": "code",
   "execution_count": 24,
   "metadata": {},
   "outputs": [
    {
     "data": {
      "text/html": [
       "<div>\n",
       "<style>\n",
       "    .dataframe thead tr:only-child th {\n",
       "        text-align: right;\n",
       "    }\n",
       "\n",
       "    .dataframe thead th {\n",
       "        text-align: left;\n",
       "    }\n",
       "\n",
       "    .dataframe tbody tr th {\n",
       "        vertical-align: top;\n",
       "    }\n",
       "</style>\n",
       "<table border=\"1\" class=\"dataframe\">\n",
       "  <thead>\n",
       "    <tr style=\"text-align: right;\">\n",
       "      <th></th>\n",
       "      <th>Name</th>\n",
       "      <th>link</th>\n",
       "      <th>Year</th>\n",
       "      <th>Age</th>\n",
       "      <th>Position</th>\n",
       "      <th>Games Played</th>\n",
       "      <th>...</th>\n",
       "      <th>DBPM</th>\n",
       "      <th>BPM</th>\n",
       "      <th>VORP</th>\n",
       "      <th>ROY</th>\n",
       "      <th>All-Rookie Team</th>\n",
       "      <th>Draft_Pick</th>\n",
       "    </tr>\n",
       "  </thead>\n",
       "  <tbody>\n",
       "    <tr>\n",
       "      <th>0</th>\n",
       "      <td>Alaa Abdelnaby</td>\n",
       "      <td>abdelal01</td>\n",
       "      <td>1990-91</td>\n",
       "      <td>22</td>\n",
       "      <td>PF</td>\n",
       "      <td>43</td>\n",
       "      <td>...</td>\n",
       "      <td>-0.7</td>\n",
       "      <td>-5.0</td>\n",
       "      <td>-0.2</td>\n",
       "      <td>0</td>\n",
       "      <td>0</td>\n",
       "      <td>25.0</td>\n",
       "    </tr>\n",
       "    <tr>\n",
       "      <th>1</th>\n",
       "      <td>Mahmoud Abdul-Rauf</td>\n",
       "      <td>abdulma02</td>\n",
       "      <td>1990-91</td>\n",
       "      <td>21</td>\n",
       "      <td>PG</td>\n",
       "      <td>67</td>\n",
       "      <td>...</td>\n",
       "      <td>-4.4</td>\n",
       "      <td>-6.1</td>\n",
       "      <td>-1.6</td>\n",
       "      <td>0</td>\n",
       "      <td>1</td>\n",
       "      <td>3.0</td>\n",
       "    </tr>\n",
       "    <tr>\n",
       "      <th>2</th>\n",
       "      <td>Tariq Abdul-Wahad</td>\n",
       "      <td>abdulta01</td>\n",
       "      <td>1997-98</td>\n",
       "      <td>23</td>\n",
       "      <td>SG</td>\n",
       "      <td>59</td>\n",
       "      <td>...</td>\n",
       "      <td>-1.7</td>\n",
       "      <td>-5.9</td>\n",
       "      <td>-0.9</td>\n",
       "      <td>0</td>\n",
       "      <td>0</td>\n",
       "      <td>11.0</td>\n",
       "    </tr>\n",
       "    <tr>\n",
       "      <th>3</th>\n",
       "      <td>Shareef Abdur-Rahim</td>\n",
       "      <td>abdursh01</td>\n",
       "      <td>1996-97</td>\n",
       "      <td>20</td>\n",
       "      <td>PF</td>\n",
       "      <td>80</td>\n",
       "      <td>...</td>\n",
       "      <td>-1.2</td>\n",
       "      <td>-2.0</td>\n",
       "      <td>0.0</td>\n",
       "      <td>0</td>\n",
       "      <td>1</td>\n",
       "      <td>3.0</td>\n",
       "    </tr>\n",
       "    <tr>\n",
       "      <th>4</th>\n",
       "      <td>Tom Abernethy</td>\n",
       "      <td>abernto01</td>\n",
       "      <td>1976-77</td>\n",
       "      <td>22</td>\n",
       "      <td>SF</td>\n",
       "      <td>70</td>\n",
       "      <td>...</td>\n",
       "      <td>0.3</td>\n",
       "      <td>-0.4</td>\n",
       "      <td>0.5</td>\n",
       "      <td>0</td>\n",
       "      <td>0</td>\n",
       "      <td>43.0</td>\n",
       "    </tr>\n",
       "  </tbody>\n",
       "</table>\n",
       "<p>5 rows × 75 columns</p>\n",
       "</div>"
      ],
      "text/plain": [
       "                  Name       link     Year Age Position  Games Played  \\\n",
       "0       Alaa Abdelnaby  abdelal01  1990-91  22       PF            43   \n",
       "1   Mahmoud Abdul-Rauf  abdulma02  1990-91  21       PG            67   \n",
       "2    Tariq Abdul-Wahad  abdulta01  1997-98  23       SG            59   \n",
       "3  Shareef Abdur-Rahim  abdursh01  1996-97  20       PF            80   \n",
       "4        Tom Abernethy  abernto01  1976-77  22       SF            70   \n",
       "\n",
       "      ...      DBPM  BPM  VORP  ROY  All-Rookie Team  Draft_Pick  \n",
       "0     ...      -0.7 -5.0  -0.2    0                0        25.0  \n",
       "1     ...      -4.4 -6.1  -1.6    0                1         3.0  \n",
       "2     ...      -1.7 -5.9  -0.9    0                0        11.0  \n",
       "3     ...      -1.2 -2.0   0.0    0                1         3.0  \n",
       "4     ...       0.3 -0.4   0.5    0                0        43.0  \n",
       "\n",
       "[5 rows x 75 columns]"
      ]
     },
     "execution_count": 24,
     "metadata": {},
     "output_type": "execute_result"
    }
   ],
   "source": [
    "rookie.head()"
   ]
  },
  {
   "cell_type": "code",
   "execution_count": null,
   "metadata": {
    "collapsed": true
   },
   "outputs": [],
   "source": []
  }
 ],
 "metadata": {
  "kernelspec": {
   "display_name": "Python 3",
   "language": "python",
   "name": "python3"
  },
  "language_info": {
   "codemirror_mode": {
    "name": "ipython",
    "version": 3
   },
   "file_extension": ".py",
   "mimetype": "text/x-python",
   "name": "python",
   "nbconvert_exporter": "python",
   "pygments_lexer": "ipython3",
   "version": "3.6.3"
  }
 },
 "nbformat": 4,
 "nbformat_minor": 2
}
