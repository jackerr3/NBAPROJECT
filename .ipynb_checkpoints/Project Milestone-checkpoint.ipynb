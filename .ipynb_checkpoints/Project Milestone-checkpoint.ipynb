{
 "cells": [
  {
   "cell_type": "markdown",
   "metadata": {},
   "source": [
    "This is to summarize and explain what we have done so far and what we need to do going forward. First of all, our project is broken into three notebooks currently, but will be combined into one for our final submission. The first notebook, Project Scraping, is where we scraped basketball-reference.com to get all of the data we need. The second notebook, Data Cleaning and Analysis, is where we combined the different dataframes that we acquired and cleaned them up. We then did some exploratory analysis on these dataframes. The last notebook, Project Classification, is where we attempted to classify the rookie dataset and group players into 5 categories (MVP, All-Star, Starter, Role Player, or Bust). \n",
    "\n",
    "Going into it, we thought a lot of our time would be spent on the classification part of it, but the other analysis has been just as interesting than we anticipated. We've also had to spend a lot of time acquiring the data. Scraping the website and getting consistent data has been harder than we anticipated.\n",
    "\n",
    "Going forward, we need to dive deeper into our data. There are also some problems with the data collection that we need to address so that we can do more analysis. A lot of our time going forward will be making sure the data we have is how we need it, and drawing insightful conclusions from that data."
   ]
  },
  {
   "cell_type": "code",
   "execution_count": null,
   "metadata": {
    "collapsed": true
   },
   "outputs": [],
   "source": []
  }
 ],
 "metadata": {
  "kernelspec": {
   "display_name": "Python 3",
   "language": "python",
   "name": "python3"
  },
  "language_info": {
   "codemirror_mode": {
    "name": "ipython",
    "version": 3
   },
   "file_extension": ".py",
   "mimetype": "text/x-python",
   "name": "python",
   "nbconvert_exporter": "python",
   "pygments_lexer": "ipython3",
   "version": "3.6.3"
  }
 },
 "nbformat": 4,
 "nbformat_minor": 2
}
